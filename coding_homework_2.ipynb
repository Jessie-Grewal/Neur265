{
  "nbformat": 4,
  "nbformat_minor": 0,
  "metadata": {
    "colab": {
      "provenance": [],
      "include_colab_link": true
    },
    "kernelspec": {
      "name": "python3",
      "display_name": "Python 3"
    },
    "language_info": {
      "name": "python"
    }
  },
  "cells": [
    {
      "cell_type": "markdown",
      "metadata": {
        "id": "view-in-github",
        "colab_type": "text"
      },
      "source": [
        "<a href=\"https://colab.research.google.com/github/Jessie-Grewal/Neur265/blob/main/coding_homework_2.ipynb\" target=\"_parent\"><img src=\"https://colab.research.google.com/assets/colab-badge.svg\" alt=\"Open In Colab\"/></a>"
      ]
    },
    {
      "cell_type": "markdown",
      "source": [
        "# Coding Homework #2\n",
        "\n",
        "**Instructions:**\n",
        "\n",
        "1. Make a *Markdown Cell* that contains the following information:\n",
        "- Your name (small header)\n",
        "- The name of this class (italicized)\n",
        "- The date (bolded)\n",
        "\n",
        "2. Make a *Code Cell* that imports <code>numpy</code> as <code>np</code>, <code>matplotlib.pyplot</code> as <code>plt</code>, <code>statistics</code> as <code>st</code>.\n",
        "\n",
        "3. Make a *Code Cell* that imports your <code>v_rest1.csv</code> and <code>v_rest2.csv</code> files as <code>numpy</code> arrays called <code>v_rest1</code> and <code>v_rest2</code> respectively. You're used to doing this with the <code>pd.read_csv</code> function for <code>pandas</code>, but can accomplish the same thing using the <code>np.loadtxt</code> function for <code>numpy</code>.\n",
        "\n",
        "4. Make a *Code Cell* that concatenates <code>v_rest1</code> and <code>v_rest2</code> into a matrix with 2 rows and 13 columns named <code>v_rest</code>.\n",
        "\n",
        "5. Make a *Code Cell* that prints the <code>size</code> of <code>v_rest</code>.\n",
        "\n",
        "6. Make a *Code Cell* that returns the first row of <code>v_rest</code>.\n",
        "\n",
        "7. Make a *Code Cell* that returns the sum of the values in the third column of <code>v_rest</code>. You can accomplish this by using <code>v_rest[].sum()</code>, with your index inside of the brackets. As an example, if I wanted to return the sum of the first row of <code>v_rest</code>, I could use <code>v_rest[0].sum()</code> to get my answer.\n",
        "\n",
        "8. Make a *Code Cell* that returns the second-to-last value in the second row of <code>v_rest</code> (use negative indexing for the column value).\n",
        "\n",
        "9. Create a *Code Cell* that makes a histogram of the values in the first row of <code>v_rest</code> (you can do this by using the <code>plt.hist()</code> function). Label your axes.\n",
        "\n",
        "10. Create a *Code Cell* that takes the mean of the values in the first row of <code>v_rest</code>, and assigns the mean to a variable called <code>v_rest_mean_1</code>. Do the same thing for the second row of <code>v_rest</code>, and assign the mean value of the second row to a variable called <code>v_rest_mean_2</code>. You can get the means by using the <code>st.mean()</code> function (remember to put what you want the mean *of* inside the parentheses of the function).\n",
        "\n",
        "11. Create a *Markdown Cell* that describes the difference in means between the two rows. Which one is bigger?\n",
        "\n",
        "12. How can we test whether the difference in means is *meaningful* (statistically significant)? When we're comparing two means, we can use a t-test (assuming the data are normally distributed). To use a t-test on our data, we will first need to import the <code>scipy</code> package. Create a new *Code Cell* that runs the following:\n",
        "\n",
        "<code>\n",
        "import scipy.stats as stats\n",
        "</code>\n",
        "\n",
        "13. Now, we can perform a t-test on the two rows of <code>v_rest</code>. To do this, create a new *Code Cell* that uses the <code>stats.ttest_ind()</code> function - for example:\n",
        "\n",
        "<code>\n",
        "stats.ttest_ind(row1, row2)\n",
        "</code>\n",
        "\n",
        "Replace <code>row1</code> and <code>row2</code> in this case with the first and second rows, respectively, of <code>v_rest</code>.\n",
        "\n",
        "14. Make a *Markdown Cell* that describes the results of your t-test. You should have <code>statistic</code> variable and a <code>pvalue</code> variable. The way to interpret your p-value is as a probability - specifically, the probability that the mean of one distribution could be found in the second distribution. Typically, results are considered to be \"statistically significant\" if the probability is lower than 5% - or 0.05. What is your p-value? Based on this p-value, do you think it is likely that the means are significantly different, or do you think it is likely that they are not?\n",
        "\n",
        "15. Make sure to add at least one line with a <code>#</code> in front of it to each *Code Cell* to describe what each cell does.\n",
        "\n",
        "16. Save a copy of this notebook to your GitHub repo with the title \"coding_homework_2.ipynb\"."
      ],
      "metadata": {
        "id": "CXEcCBSA_prs"
      }
    },
    {
      "cell_type": "markdown",
      "source": [
        "### Jessie Grewal\n",
        "\n",
        "_Neur 265: Intro to Neural Data Analysis_\n",
        "\n",
        "Date: __2-24-2023__"
      ],
      "metadata": {
        "id": "KBMfCXGXig7l"
      }
    },
    {
      "cell_type": "code",
      "source": [
        "# Importing data managament packages- numpy, matplotlib, and statistics\n",
        "import numpy as np\n",
        "import matplotlib.pyplot as plt\n",
        "import statistics as st"
      ],
      "metadata": {
        "id": "ZB6LcPpWiqUg"
      },
      "execution_count": null,
      "outputs": []
    },
    {
      "cell_type": "code",
      "source": [
        "# Importing vrest1 and vrest2 datafiles as numpy arrays\n",
        "vrest_1_url = 'https://raw.githubusercontent.com/Jessie-Grewal/Neur265/main/vrest_1.csv'\n",
        "vrest_2_url = 'https://raw.githubusercontent.com/Jessie-Grewal/Neur265/main/vrest_2.csv'\n",
        "\n",
        "v_rest1 = np.loadtxt(vrest_1_url)\n",
        "print (v_rest1)\n",
        "v_rest2 = np.loadtxt(vrest_2_url)\n",
        "print(v_rest2)"
      ],
      "metadata": {
        "id": "MRfqhh9gjB3C",
        "outputId": "c8e5eba2-7454-436e-b814-a170c12d9801",
        "colab": {
          "base_uri": "https://localhost:8080/"
        }
      },
      "execution_count": null,
      "outputs": [
        {
          "output_type": "stream",
          "name": "stdout",
          "text": [
            "[-65.22357635 -69.37517062 -74.64432664 -65.7697915  -75.19783554\n",
            " -72.78378732 -68.68115692 -66.56558638 -70.88484573 -78.4155338\n",
            " -78.96686068 -66.69574314 -75.32606021]\n",
            "[-66.96053925 -78.32640266 -73.75214462 -73.38384247 -68.27419662\n",
            " -69.59182472 -72.79958153 -72.99005714 -67.65620518 -71.15641308\n",
            " -76.08525009 -59.41326904 -78.42680359]\n"
          ]
        }
      ]
    },
    {
      "cell_type": "code",
      "source": [
        "# Concatenates v_rest1 and v_rest2 into a matrix with 2 rows and 13 columns named v_rest\n",
        "v_rest = np.vstack((v_rest1, v_rest2))\n",
        "print(v_rest)"
      ],
      "metadata": {
        "id": "B_yVAT3BkEo1",
        "outputId": "d21eddfc-561d-4514-8428-aad4a621634b",
        "colab": {
          "base_uri": "https://localhost:8080/"
        }
      },
      "execution_count": null,
      "outputs": [
        {
          "output_type": "stream",
          "name": "stdout",
          "text": [
            "[[-65.22357635 -69.37517062 -74.64432664 -65.7697915  -75.19783554\n",
            "  -72.78378732 -68.68115692 -66.56558638 -70.88484573 -78.4155338\n",
            "  -78.96686068 -66.69574314 -75.32606021]\n",
            " [-66.96053925 -78.32640266 -73.75214462 -73.38384247 -68.27419662\n",
            "  -69.59182472 -72.79958153 -72.99005714 -67.65620518 -71.15641308\n",
            "  -76.08525009 -59.41326904 -78.42680359]]\n"
          ]
        }
      ]
    },
    {
      "cell_type": "code",
      "source": [
        "# Prints size of v_rest\n",
        "np.size(v_rest)"
      ],
      "metadata": {
        "id": "UsF0bC-zmLmy",
        "outputId": "eea63ae5-ffe8-460c-d58a-709727871e2e",
        "colab": {
          "base_uri": "https://localhost:8080/"
        }
      },
      "execution_count": null,
      "outputs": [
        {
          "output_type": "execute_result",
          "data": {
            "text/plain": [
              "26"
            ]
          },
          "metadata": {},
          "execution_count": 16
        }
      ]
    },
    {
      "cell_type": "code",
      "source": [
        "# Returns the first row of v_rest\n",
        "v_rest[0,:]"
      ],
      "metadata": {
        "id": "3lAekOjaXq57",
        "outputId": "ab9db2e2-a9e7-4d03-ebe9-e6419c69e916",
        "colab": {
          "base_uri": "https://localhost:8080/"
        }
      },
      "execution_count": null,
      "outputs": [
        {
          "output_type": "execute_result",
          "data": {
            "text/plain": [
              "array([-65.22357635, -69.37517062, -74.64432664, -65.7697915 ,\n",
              "       -75.19783554, -72.78378732, -68.68115692, -66.56558638,\n",
              "       -70.88484573, -78.4155338 , -78.96686068, -66.69574314,\n",
              "       -75.32606021])"
            ]
          },
          "metadata": {},
          "execution_count": 25
        }
      ]
    },
    {
      "cell_type": "code",
      "source": [
        "# returns the sum of the values in the third column of v_rest\n",
        "\n",
        "v_rest[: , 2].sum()"
      ],
      "metadata": {
        "id": "eemOzrWDX3Ao",
        "outputId": "b88d4ad7-f563-476c-e748-dabaeeee510c",
        "colab": {
          "base_uri": "https://localhost:8080/"
        }
      },
      "execution_count": null,
      "outputs": [
        {
          "output_type": "execute_result",
          "data": {
            "text/plain": [
              "-148.39647126"
            ]
          },
          "metadata": {},
          "execution_count": 26
        }
      ]
    },
    {
      "cell_type": "code",
      "source": [
        "# returns the second-to-last value in the second row of v_rest\n",
        "\n",
        "v_rest[1,-2]"
      ],
      "metadata": {
        "id": "oacMH_DfvPTY",
        "outputId": "f912ed2c-e97a-4545-82a9-e1663349faf6",
        "colab": {
          "base_uri": "https://localhost:8080/"
        }
      },
      "execution_count": null,
      "outputs": [
        {
          "output_type": "execute_result",
          "data": {
            "text/plain": [
              "-59.41326904"
            ]
          },
          "metadata": {},
          "execution_count": 27
        }
      ]
    },
    {
      "cell_type": "code",
      "source": [
        "# makes a histogram of the values in the first row of v_rest\n",
        "\n",
        "plt.hist(v_rest[0,:])\n",
        "plt.xlabel('Resting Membrane Potential (mV)')\n",
        "plt.ylabel('Number of Cells')"
      ],
      "metadata": {
        "id": "JWdiIkJOvfwu",
        "outputId": "8e2c598b-c68a-4b3b-8303-80ecf0010115",
        "colab": {
          "base_uri": "https://localhost:8080/",
          "height": 297
        }
      },
      "execution_count": null,
      "outputs": [
        {
          "output_type": "execute_result",
          "data": {
            "text/plain": [
              "Text(0, 0.5, 'Number of Cells')"
            ]
          },
          "metadata": {},
          "execution_count": 31
        },
        {
          "output_type": "display_data",
          "data": {
            "text/plain": [
              "<Figure size 432x288 with 1 Axes>"
            ],
            "image/png": "[encoded data removed]"
          },
          "metadata": {
            "needs_background": "light"
          }
        }
      ]
    },
    {
      "cell_type": "code",
      "source": [
        "# mean of the values in the first row of v_rest and mean of the values in the second row of v_rest\n",
        "v_rest_mean_1 = st.mean(v_rest[0,:])\n",
        "print(v_rest_mean_1)\n",
        "\n",
        "v_rest_mean_2 = st.mean(v_rest[1,:])\n",
        "print(v_rest_mean_2)"
      ],
      "metadata": {
        "id": "S-cuF6yAz_Mj",
        "outputId": "2f3d1c2e-a3ec-4a47-a9e0-1c73a9dc4464",
        "colab": {
          "base_uri": "https://localhost:8080/"
        }
      },
      "execution_count": null,
      "outputs": [
        {
          "output_type": "stream",
          "name": "stdout",
          "text": [
            "-71.42540575615385\n",
            "-71.44742538384615\n"
          ]
        }
      ]
    },
    {
      "cell_type": "markdown",
      "source": [
        " # Describe the difference in means between the two rows.\n",
        "\n",
        "* The mean of the first row of v_rest is -71.43 mV, and the mean of the second row of v_rest is -71.45 mV. These values are very similar, but the mean of the second row of v_rest is slightly bigger."
      ],
      "metadata": {
        "id": "bcN1YQME138v"
      }
    },
    {
      "cell_type": "code",
      "source": [
        "# Import the scipy package\n",
        "\n",
        "import scipy.stats as stats"
      ],
      "metadata": {
        "id": "cUDr3teA2UpV"
      },
      "execution_count": null,
      "outputs": []
    },
    {
      "cell_type": "code",
      "source": [
        "# Perform a t-test on the two rows of v_rest\n",
        "\n",
        "stats.ttest_ind(v_rest[0,:], v_rest[1,:])"
      ],
      "metadata": {
        "id": "rhwlZYm73CRC",
        "outputId": "45e5a99b-de3f-4235-a87b-9668ba02ab73",
        "colab": {
          "base_uri": "https://localhost:8080/"
        }
      },
      "execution_count": null,
      "outputs": [
        {
          "output_type": "execute_result",
          "data": {
            "text/plain": [
              "Ttest_indResult(statistic=0.011231727797117124, pvalue=0.9911314110737659)"
            ]
          },
          "metadata": {},
          "execution_count": 43
        }
      ]
    },
    {
      "cell_type": "markdown",
      "source": [
        "# Describes the results of t-test\n",
        "\n",
        "The p value from this ttest was equal to 0.99. Thus, the means of row 1 and row 2 of v_rest are not statisticically significantly different because the p value is not less than alpha, 0.05. "
      ],
      "metadata": {
        "id": "DzcXxNmr4dhQ"
      }
    }
  ]
}