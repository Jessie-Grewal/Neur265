{
  "nbformat": 4,
  "nbformat_minor": 0,
  "metadata": {
    "colab": {
      "provenance": [],
      "include_colab_link": true
    },
    "kernelspec": {
      "name": "python3",
      "display_name": "Python 3"
    },
    "language_info": {
      "name": "python"
    }
  },
  "cells": [
    {
      "cell_type": "markdown",
      "metadata": {
        "id": "view-in-github",
        "colab_type": "text"
      },
      "source": [
        "<a href=\"https://colab.research.google.com/github/Jessie-Grewal/Neur265/blob/main/coding_homework_2.ipynb\" target=\"_parent\"><img src=\"https://colab.research.google.com/assets/colab-badge.svg\" alt=\"Open In Colab\"/></a>"
      ]
    },
    {
      "cell_type": "markdown",
      "source": [
        "# Coding Homework #2\n",
        "\n",
        "**Instructions:**\n",
        "\n",
        "1. Make a *Markdown Cell* that contains the following information:\n",
        "- Your name (small header)\n",
        "- The name of this class (italicized)\n",
        "- The date (bolded)\n",
        "\n",
        "2. Make a *Code Cell* that imports <code>numpy</code> as <code>np</code>, <code>matplotlib.pyplot</code> as <code>plt</code>, <code>statistics</code> as <code>st</code>.\n",
        "\n",
        "3. Make a *Code Cell* that imports your <code>v_rest1.csv</code> and <code>v_rest2.csv</code> files as <code>numpy</code> arrays called <code>v_rest1</code> and <code>v_rest2</code> respectively. You're used to doing this with the <code>pd.read_csv</code> function for <code>pandas</code>, but can accomplish the same thing using the <code>np.loadtxt</code> function for <code>numpy</code>.\n",
        "\n",
        "4. Make a *Code Cell* that concatenates <code>v_rest1</code> and <code>v_rest2</code> into a matrix with 2 rows and 13 columns named <code>v_rest</code>.\n",
        "\n",
        "5. Make a *Code Cell* that prints the <code>size</code> of <code>v_rest</code>.\n",
        "\n",
        "6. Make a *Code Cell* that returns the first row of <code>v_rest</code>.\n",
        "\n",
        "7. Make a *Code Cell* that returns the sum of the values in the third column of <code>v_rest</code>. You can accomplish this by using <code>v_rest[].sum()</code>, with your index inside of the brackets. As an example, if I wanted to return the sum of the first row of <code>v_rest</code>, I could use <code>v_rest[0].sum()</code> to get my answer.\n",
        "\n",
        "8. Make a *Code Cell* that returns the second-to-last value in the second row of <code>v_rest</code> (use negative indexing for the column value).\n",
        "\n",
        "9. Create a *Code Cell* that makes a histogram of the values in the first row of <code>v_rest</code> (you can do this by using the <code>plt.hist()</code> function). Label your axes.\n",
        "\n",
        "10. Create a *Code Cell* that takes the mean of the values in the first row of <code>v_rest</code>, and assigns the mean to a variable called <code>v_rest_mean_1</code>. Do the same thing for the second row of <code>v_rest</code>, and assign the mean value of the second row to a variable called <code>v_rest_mean_2</code>. You can get the means by using the <code>st.mean()</code> function (remember to put what you want the mean *of* inside the parentheses of the function).\n",
        "\n",
        "11. Create a *Markdown Cell* that describes the difference in means between the two rows. Which one is bigger?\n",
        "\n",
        "12. How can we test whether the difference in means is *meaningful* (statistically significant)? When we're comparing two means, we can use a t-test (assuming the data are normally distributed). To use a t-test on our data, we will first need to import the <code>scipy</code> package. Create a new *Code Cell* that runs the following:\n",
        "\n",
        "<code>\n",
        "import scipy.stats as stats\n",
        "</code>\n",
        "\n",
        "13. Now, we can perform a t-test on the two rows of <code>v_rest</code>. To do this, create a new *Code Cell* that uses the <code>stats.ttest_ind()</code> function - for example:\n",
        "\n",
        "<code>\n",
        "stats.ttest_ind(row1, row2)\n",
        "</code>\n",
        "\n",
        "Replace <code>row1</code> and <code>row2</code> in this case with the first and second rows, respectively, of <code>v_rest</code>.\n",
        "\n",
        "14. Make a *Markdown Cell* that describes the results of your t-test. You should have <code>statistic</code> variable and a <code>pvalue</code> variable. The way to interpret your p-value is as a probability - specifically, the probability that the mean of one distribution could be found in the second distribution. Typically, results are considered to be \"statistically significant\" if the probability is lower than 5% - or 0.05. What is your p-value? Based on this p-value, do you think it is likely that the means are significantly different, or do you think it is likely that they are not?\n",
        "\n",
        "15. Make sure to add at least one line with a <code>#</code> in front of it to each *Code Cell* to describe what each cell does.\n",
        "\n",
        "16. Save a copy of this notebook to your GitHub repo with the title \"coding_homework_2.ipynb\"."
      ],
      "metadata": {
        "id": "CXEcCBSA_prs"
      }
    },
    {
      "cell_type": "markdown",
      "source": [
        "### Jessie Grewal\n",
        "\n",
        "_Neur 265: Intro to Neural Data Analysis_\n",
        "\n",
        "Date: __2-24-2023__"
      ],
      "metadata": {
        "id": "KBMfCXGXig7l"
      }
    },
    {
      "cell_type": "code",
      "source": [
        "# Importing data managament packages- numpy, matplotlib, and statistics\n",
        "import numpy as np\n",
        "import matplotlib.pyplot as plt\n",
        "import statistics as st"
      ],
      "metadata": {
        "id": "ZB6LcPpWiqUg"
      },
      "execution_count": 6,
      "outputs": []
    },
    {
      "cell_type": "code",
      "source": [
        "# Importing vrest1 and vrest2 datafiles as numpy arrays\n",
        "vrest_1_url = 'https://raw.githubusercontent.com/Jessie-Grewal/Neur265/main/vrest_1.csv'\n",
        "vrest_2_url = 'https://raw.githubusercontent.com/Jessie-Grewal/Neur265/main/vrest_2.csv'\n",
        "\n",
        "v_rest1 = np.loadtxt(vrest_1_url).reshape(13,1)\n",
        "print (v_rest1)\n",
        "v_rest2 = np.loadtxt(vrest_2_url).reshape(13,1)\n",
        "print(v_rest2)"
      ],
      "metadata": {
        "id": "MRfqhh9gjB3C",
        "outputId": "1d9f3f50-8255-42ff-8f47-747e59c742fc",
        "colab": {
          "base_uri": "https://localhost:8080/"
        }
      },
      "execution_count": 27,
      "outputs": [
        {
          "output_type": "stream",
          "name": "stdout",
          "text": [
            "[[-65.22357635]\n",
            " [-69.37517062]\n",
            " [-74.64432664]\n",
            " [-65.7697915 ]\n",
            " [-75.19783554]\n",
            " [-72.78378732]\n",
            " [-68.68115692]\n",
            " [-66.56558638]\n",
            " [-70.88484573]\n",
            " [-78.4155338 ]\n",
            " [-78.96686068]\n",
            " [-66.69574314]\n",
            " [-75.32606021]]\n",
            "[[-66.96053925]\n",
            " [-78.32640266]\n",
            " [-73.75214462]\n",
            " [-73.38384247]\n",
            " [-68.27419662]\n",
            " [-69.59182472]\n",
            " [-72.79958153]\n",
            " [-72.99005714]\n",
            " [-67.65620518]\n",
            " [-71.15641308]\n",
            " [-76.08525009]\n",
            " [-59.41326904]\n",
            " [-78.42680359]]\n"
          ]
        }
      ]
    },
    {
      "cell_type": "code",
      "source": [
        "v_rest = np.concatenate((v_rest1, v_rest2), axis = 1)\n",
        "print (v_rest)"
      ],
      "metadata": {
        "id": "B_yVAT3BkEo1",
        "outputId": "144ceb2f-3f56-4e9f-b797-0d7ad50ac61a",
        "colab": {
          "base_uri": "https://localhost:8080/"
        }
      },
      "execution_count": 28,
      "outputs": [
        {
          "output_type": "stream",
          "name": "stdout",
          "text": [
            "[[-65.22357635 -66.96053925]\n",
            " [-69.37517062 -78.32640266]\n",
            " [-74.64432664 -73.75214462]\n",
            " [-65.7697915  -73.38384247]\n",
            " [-75.19783554 -68.27419662]\n",
            " [-72.78378732 -69.59182472]\n",
            " [-68.68115692 -72.79958153]\n",
            " [-66.56558638 -72.99005714]\n",
            " [-70.88484573 -67.65620518]\n",
            " [-78.4155338  -71.15641308]\n",
            " [-78.96686068 -76.08525009]\n",
            " [-66.69574314 -59.41326904]\n",
            " [-75.32606021 -78.42680359]]\n"
          ]
        }
      ]
    },
    {
      "cell_type": "code",
      "source": [],
      "metadata": {
        "id": "UsF0bC-zmLmy",
        "outputId": "1d9b3105-c9b4-4c20-8216-f0cb8d60e28a",
        "colab": {
          "base_uri": "https://localhost:8080/"
        }
      },
      "execution_count": 23,
      "outputs": [
        {
          "output_type": "stream",
          "name": "stdout",
          "text": [
            "Object `arange` not found.\n"
          ]
        }
      ]
    }
  ]
}