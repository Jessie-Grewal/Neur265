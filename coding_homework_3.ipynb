{
  "nbformat": 4,
  "nbformat_minor": 0,
  "metadata": {
    "colab": {
      "provenance": [],
      "include_colab_link": true
    },
    "kernelspec": {
      "name": "python3",
      "display_name": "Python 3"
    },
    "language_info": {
      "name": "python"
    }
  },
  "cells": [
    {
      "cell_type": "markdown",
      "metadata": {
        "id": "view-in-github",
        "colab_type": "text"
      },
      "source": [
        "<a href=\"https://colab.research.google.com/github/Jessie-Grewal/Neur265/blob/main/coding_homework_3.ipynb\" target=\"_parent\"><img src=\"https://colab.research.google.com/assets/colab-badge.svg\" alt=\"Open In Colab\"/></a>"
      ]
    },
    {
      "cell_type": "markdown",
      "source": [
        "# Coding Homework #3\n",
        "\n",
        "**Instructions**\n",
        "\n",
        "1. Make a *Markdown Cell* that contains the following information:\n",
        "- Your name (small header)\n",
        "- The name of this class (italicized)\n",
        "- The date (bolded)\n",
        "\n",
        "2. Make a *Code Cell* that imports <code>numpy</code> as <code>np</code>, <code>matplotlib.pyplot</code> as <code>plt</code>, and <code>scipy.stats</code> as <code>stats</code>.\n",
        "\n",
        "3. Make a *Code Cell* that imports your <code>v_rest1.csv</code> and <code>v_rest2.csv</code> variables as <code>numpy</code> arrays called <code>v_rest1</code> and <code>v_rest2</code> respectively.\n",
        "\n",
        "4. Make a *Code Cell* that does the following:\n",
        "  \n",
        "  a. Finds the means of <code>v_rest1</code> and <code>v_rest2</code>.\n",
        "  \n",
        "  b. Performs a t-test to test the null hypothesis that the means of <code>v_rest1</code> and <code>v_rest2</code> come from different distributions.\n",
        "\n",
        "  c. Plots a histogram of <code>v_rest1</code> in one subplot, and a histogram of <code>v_rest2</code> in another subplot if the p-value of the t-test is > 0.05. You can make two subplots using the syntax <code>fig, ax = plt.subplots(1,1)</code>.\n",
        "\n",
        "  d. Labels the y-axis and x-axis of your histograms (recall that <code>ax.ylabel</code> and <code>ax.xlabel</code> are the methods that let you accomplish this).\n",
        "\n",
        "5. Make a *Code Cell* that defines a function called <code>vrestHist()</code>. This function should execute the code in step 4 when called. Remember to tell python that you want the function to show your plots when you call it!\n",
        "\n",
        "6. Make a *Code Cell* that calls <code>vrestHist()</code>.\n",
        "\n",
        "7. Make a *Code Cell* that does the following:\n",
        "\n",
        "    a. Loops through each column of <code>v_rest1</code> and <code>v_rest2</code> and makes a scatter plot with <code>v_rest1</code> on the x-axis and <code>v_rest2</code> on the y-axis. \n",
        "\n",
        "    b. Each iteration of your loop should plot a different point on the scatter plot. At the end of your loop, you should have only one scatter plot with number of data points equal to the length of <code>v_rest1</code> and <code>v_rest2</code>.\n",
        "\n",
        "    c. Your loop should plot a <font color = 'red'>red</font> dot if *both* values in <code>v_rest1</code> and <code>v_rest2</code> are greater than -60, a <font color = 'green'>green</font> dot if values in <code>v_rest1</code> are greater than -60, but values in <code>v_rest2</code> are less than -60, and a <font color = 'blue'>blue</font> dot if *both* values in <code>v_rest1</code> and <code>v_rest2</code> are less than -60. \n",
        "\n",
        "    d. Labels your y-axis and your x-axis (this code should be outside of your loop).\n",
        "\n",
        "8. Make a *Code Cell* that defines a function called <code>vrestScatter()</code>. This function should execute the code in step 7 when called. Remember to tell python that you want the function to show your plot when you call it!\n",
        "\n",
        "9. Save a copy of this notebook to your GitHub repo with the title \"coding_homework_3.ipynb\"."
      ],
      "metadata": {
        "id": "zbzMCJlMN3ph"
      }
    },
    {
      "cell_type": "markdown",
      "source": [
        "### Jessie Grewal\n",
        "\n",
        "_Neur 265: Intro to Neural Data Analysis_\n",
        "\n",
        "Date: __2-10-2023__"
      ],
      "metadata": {
        "id": "tf8GzodoVk1X"
      }
    },
    {
      "cell_type": "code",
      "source": [
        "# Importing data managament packages- numpy, matplotlib, and scipy statistics\n",
        "import numpy as np\n",
        "import matplotlib.pyplot as plt\n",
        "import scipy.stats as stats\n",
        "import pandas as pd\n"
      ],
      "metadata": {
        "id": "aXRK6bmOVn8N"
      },
      "execution_count": 163,
      "outputs": []
    },
    {
      "cell_type": "code",
      "source": [
        "# Importing vrest1 and vrest2 datafiles as numpy arrays\n",
        "v_rest1_url = 'https://raw.githubusercontent.com/Jessie-Grewal/Neur265/main/vrest_1.csv'\n",
        "v_rest2_url = 'https://raw.githubusercontent.com/Jessie-Grewal/Neur265/main/vrest_2.csv'\n",
        "\n",
        "v_rest1 = np.loadtxt(v_rest1_url)\n",
        "print(v_rest1)\n",
        "v_rest2 = np.loadtxt(v_rest2_url)\n",
        "print(v_rest2)"
      ],
      "metadata": {
        "id": "Cyg_UPtTWGS6",
        "outputId": "2892900c-6fab-4582-a2d7-ad60d1460e2d",
        "colab": {
          "base_uri": "https://localhost:8080/"
        }
      },
      "execution_count": 94,
      "outputs": [
        {
          "output_type": "stream",
          "name": "stdout",
          "text": [
            "[-65.22357635 -69.37517062 -74.64432664 -65.7697915  -75.19783554\n",
            " -72.78378732 -68.68115692 -66.56558638 -70.88484573 -78.4155338\n",
            " -78.96686068 -66.69574314 -75.32606021]\n",
            "[-66.96053925 -78.32640266 -73.75214462 -73.38384247 -68.27419662\n",
            " -69.59182472 -72.79958153 -72.99005714 -67.65620518 -71.15641308\n",
            " -76.08525009 -59.41326904 -78.42680359]\n"
          ]
        }
      ]
    },
    {
      "cell_type": "code",
      "source": [
        "# Finding the Means of v_rest1 and v_rest2, performing a t_test on v_rest1 and v_rest2,\n",
        "# and plotting a histogram of v_rest1 in one subplot, and a histogram of v_rest2 in another subplot if the p-value of the t-test is > 0.05\n",
        "import statistics as st\n",
        "\n",
        "v_rest1_mean = st.mean(v_rest1)\n",
        "print(v_rest1_mean)\n",
        "v_rest2_mean = st.mean(v_rest2)\n",
        "print(v_rest2_mean)\n",
        "\n",
        "ttest_results = stats.ttest_ind(v_rest1, v_rest2)\n",
        "\n",
        "pval = ttest_results.pvalue\n",
        "\n",
        "if pval > 0.05:\n",
        "  fig, ax = plt.subplots(1,2,figsize = (15, 5), squeeze = False)\n",
        "  ax[0,0].hist(v_rest1)\n",
        "  ax[0,0].set_ylabel('Number of Cells')\n",
        "  ax[0,0].set_xlabel('Resting Membrane Potential (mV)')\n",
        "  ax[0,0].title.set_text('V_Rest1')\n",
        "  ax[0,1].hist(v_rest2)\n",
        "  ax[0,1].set_ylabel('Number of Cells')\n",
        "  ax[0,1].set_xlabel('Resting Membrane Potential (mV)')\n",
        "  ax[0,1].title.set_text('V_Rest2')\n",
        "  plt.show()"
      ],
      "metadata": {
        "id": "0bZZsjTdWirB",
        "outputId": "363c1ac5-fa20-4415-9690-c5ba94e58173",
        "colab": {
          "base_uri": "https://localhost:8080/",
          "height": 387
        }
      },
      "execution_count": 159,
      "outputs": [
        {
          "output_type": "stream",
          "name": "stdout",
          "text": [
            "-71.42540575615385\n",
            "-71.44742538384615\n"
          ]
        },
        {
          "output_type": "display_data",
          "data": {
            "text/plain": [
              "<Figure size 1080x360 with 2 Axes>"
            ],
            "image/png": "[encoded data removed]"
          },
          "metadata": {
            "needs_background": "light"
          }
        }
      ]
    },
    {
      "cell_type": "code",
      "source": [
        "# Creating a function vrestHist() tjat executes the previous code cell\n",
        "def vrestHist():\n",
        "  import statistics as st\n",
        "\n",
        "  v_rest1_mean = st.mean(v_rest1)\n",
        "  print(v_rest1_mean)\n",
        "  v_rest2_mean = st.mean(v_rest2)\n",
        "  print(v_rest2_mean)\n",
        "\n",
        "  ttest_results = stats.ttest_ind(v_rest1, v_rest2)\n",
        "\n",
        "  pval = ttest_results.pvalue\n",
        "\n",
        "  if pval > 0.05:\n",
        "    fig, ax = plt.subplots(1,2,figsize = (15, 5), squeeze = False)\n",
        "    ax[0,0].hist(v_rest1)\n",
        "    ax[0,0].set_ylabel('Number of Cells')\n",
        "    ax[0,0].set_xlabel('Resting Membrane Potential (mV)')\n",
        "    ax[0,0].title.set_text('V_Rest1')\n",
        "    ax[0,1].hist(v_rest2)\n",
        "    ax[0,1].set_ylabel('Number of Cells')\n",
        "    ax[0,1].set_xlabel('Resting Membrane Potential (mV)')\n",
        "    ax[0,1].title.set_text('V_Rest2')\n",
        "    plt.show()"
      ],
      "metadata": {
        "id": "F3kxDjNzklld"
      },
      "execution_count": 160,
      "outputs": []
    },
    {
      "cell_type": "code",
      "source": [
        "vrestHist()"
      ],
      "metadata": {
        "id": "ghEcuMjXlGjI",
        "outputId": "cc40a15b-2956-4278-e2f6-4f1703593916",
        "colab": {
          "base_uri": "https://localhost:8080/",
          "height": 387
        }
      },
      "execution_count": 161,
      "outputs": [
        {
          "output_type": "stream",
          "name": "stdout",
          "text": [
            "-71.42540575615385\n",
            "-71.44742538384615\n"
          ]
        },
        {
          "output_type": "display_data",
          "data": {
            "text/plain": [
              "<Figure size 1080x360 with 2 Axes>"
            ],
            "image/png": "[encoded data removed]"
          },
          "metadata": {
            "needs_background": "light"
          }
        }
      ]
    },
    {
      "cell_type": "code",
      "source": [
        "#  Loops through each column of v_rest1 and v_rest2 and makes a scatter plot with v_rest1 on the x-axis and v_rest2 on the y-axis.\n",
        "len_v_rest1 = len(v_rest1)\n",
        "#print(len_v_rest1)\n",
        "len_v_rest2 = len(v_rest2)\n",
        "#print(len_v_rest2)\n",
        "num_columns = len(v_rest1)\n",
        "\n",
        "for i in range(num_columns): \n",
        "  if v_rest1[i] > -60 and v_rest2[i] > -60: \n",
        "    plt.scatter(v_rest1[i],  v_rest2[i], color = \"red\")\n",
        "  elif v_rest1[i] > -60 and v_rest2[i] < -60:\n",
        "     plt.scatter(v_rest1[i], v_rest2[i], color = \"green\")\n",
        "  elif v_rest1[i] < -60 and v_rest2[i] < -60:\n",
        "    plt. scatter(v_rest1[i], v_rest2[i], color = \"blue\")\n",
        "\n",
        "plt. xlabel('v_rest1 (mV)')\n",
        "plt. ylabel('v_rest2 (mV)')\n",
        "plt.show()"
      ],
      "metadata": {
        "id": "85xFcBoL9YmY",
        "outputId": "d0c776a1-c793-4311-83a8-52a2a6c63d81",
        "colab": {
          "base_uri": "https://localhost:8080/",
          "height": 280
        }
      },
      "execution_count": 198,
      "outputs": [
        {
          "output_type": "display_data",
          "data": {
            "text/plain": [
              "<Figure size 432x288 with 1 Axes>"
            ],
            "image/png": "[encoded data removed]"
          },
          "metadata": {
            "needs_background": "light"
          }
        }
      ]
    },
    {
      "cell_type": "code",
      "source": [
        "# defines a function called vrestScatter() that executes the code in the step above when called\n",
        "def vrestScatter():\n",
        "  len_v_rest1 = len(v_rest1)\n",
        "  len_v_rest2 = len(v_rest2)\n",
        "  num_columns = len(v_rest1)\n",
        "\n",
        "  for i in range(num_columns): \n",
        "    if v_rest1[i] > -60 and v_rest2[i] > -60: \n",
        "      plt.scatter(v_rest1[i],  v_rest2[i], color = \"red\")\n",
        "    elif v_rest1[i] > -60 and v_rest2[i] < -60:\n",
        "      plt.scatter(v_rest1[i], v_rest2[i], color = \"green\")\n",
        "    elif v_rest1[i] < -60 and v_rest2[i] < -60:\n",
        "      plt. scatter(v_rest1[i], v_rest2[i], color = \"blue\")\n",
        "\n",
        "  plt. xlabel('v_rest1 (mV)')\n",
        "  plt. ylabel('v_rest2 (mV)')\n",
        "  plt.show()  "
      ],
      "metadata": {
        "id": "ANUY0i0sWB1d"
      },
      "execution_count": 196,
      "outputs": []
    },
    {
      "cell_type": "code",
      "source": [
        "vrestScatter()"
      ],
      "metadata": {
        "id": "eXFIrTyaWVYd",
        "outputId": "30a2ae07-8493-469c-e3a8-48dca9df1ab6",
        "colab": {
          "base_uri": "https://localhost:8080/",
          "height": 280
        }
      },
      "execution_count": 197,
      "outputs": [
        {
          "output_type": "display_data",
          "data": {
            "text/plain": [
              "<Figure size 432x288 with 1 Axes>"
            ],
            "image/png": "[encoded data removed]"
          },
          "metadata": {
            "needs_background": "light"
          }
        }
      ]
    }
  ]
}