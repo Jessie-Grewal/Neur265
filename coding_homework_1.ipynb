{
  "nbformat": 4,
  "nbformat_minor": 0,
  "metadata": {
    "colab": {
      "provenance": [],
      "include_colab_link": true
    },
    "kernelspec": {
      "name": "python3",
      "display_name": "Python 3"
    },
    "language_info": {
      "name": "python"
    }
  },
  "cells": [
    {
      "cell_type": "markdown",
      "metadata": {
        "id": "view-in-github",
        "colab_type": "text"
      },
      "source": [
        "<a href=\"https://colab.research.google.com/github/Jessie-Grewal/Neur265/blob/main/coding_homework_1.ipynb\" target=\"_parent\"><img src=\"https://colab.research.google.com/assets/colab-badge.svg\" alt=\"Open In Colab\"/></a>"
      ]
    },
    {
      "cell_type": "markdown",
      "source": [
        "# Coding Homework #1\n",
        "\n",
        "**Instructions** (Note: it is very important you follow these instructions in order!)\n",
        "\n",
        "1. Run the first *Code Cell* below.\n",
        "\n",
        "2. Make a *Markdown Cell* that contains the following information:\n",
        "  * Your name (small header)\n",
        "  * The name of this class (italicized)\n",
        "  * The date (bolded)\n",
        "\n",
        "3. **Important!**: For each *Code Cell* that you create, make at least one line of code with a `#` in front of it that describes what your code does.\n",
        "\n",
        "4. Make a *Code Cell* that turns `v_rest1.csv` into a `Pandas DataFrame` called `pandas_data1`, and `v_rest2.csv` into a `Pandas DataFrame` called `pandas_data2`. Recall that we covered how to import `.csv` files as `Pandas DataFrames` in our in-class coding activity on January 30th. \n",
        "\n",
        "5. Make a *Code Cell* that converts `pandas_data1` into a `list` variable called `data1`, and converts `pandas_data2` into a `list` variable called `data2`. The following syntax is an example of how to do this:\n",
        "\n",
        "\n",
        "```\n",
        "data1 = pandas_data1.values.tolist()\n",
        "```\n",
        "\n",
        "6. When you convert a `Pandas DataFrame` into a `list`, it brackets each individual element - we don't want that! To get around this issue, make a *Code Cell* that flattens `data1` and `data2` using the `numpy.squeeze()` function. Your first *Code Cell* imported the `NumPy` module as `np`, so we can use the following code to flatten `data1`:\n",
        "\n",
        "\n",
        "```\n",
        "data1 = np.squeeze(data1)\n",
        "```\n",
        "&nbsp;&nbsp;&nbsp;&nbsp;&nbsp;&nbsp;&nbsp;&nbsp;&nbsp;&nbsp;Repeat this for `data2`.\n",
        "\n",
        "7. Make a *Code Cell* that prints the length of `data1`.\n",
        "\n",
        "8. Make a *Code Cell* that prints the 5th, 6th, 7th, and 8th elements of `data2`.\n",
        "\n",
        "9. Make a *Code Cell* that prints the second-to-last and last elements of `data1` (use negative indexing).\n",
        "\n",
        "10. Make a *Code Cell* that prints the `type` of `data2` by using the `type` function.\n",
        "\n",
        "11. The first *Code Cell* you ran imports a module called `matplotlib`. In a new *Code Cell*, use `matplotlib` to make a histogram of `data1`. You can use the syntax `plt.hist()` to do this (remember that the variable you are applying the function to goes inside of the parentheses). \n",
        "\n",
        "12. In a new *Code Cell*, re-make your histogram and use the `plt.xlabel()` and `plt.ylabel()` functions to label your axes.\n",
        "\n",
        "13. In a new *Code Cell*, follow the instructions in steps 11 and 12 to make another histogram with axis labels for `data2`. \n",
        "\n",
        "14. In a new *Markdown Cell*, write a brief description of any differences that you observe between your two histograms. Does one group of cells seem to have a higher/lower resting membrane potential than the other group of cells?\n",
        "\n",
        "15. In a new *Code Cell*, create a new variable called `data3`. Let `data3` be a list containing both `data1` and `data2`. \n",
        "\n",
        "16. Make a *Code Cell* that prints the last element of `data2`. You must index `data3` to do this (hint: we covered this in our in-class coding activity on February 1st).\n",
        "\n",
        "17. Save a copy of this notebook to your GitHub repo with the title \"coding_homework_1.pynb\". "
      ],
      "metadata": {
        "id": "R8xCV2iP1KZ_"
      }
    },
    {
      "cell_type": "code",
      "source": [
        "# Import matplotlib, pandas, and numpy\n",
        "\n",
        "from matplotlib import pyplot as plt\n",
        "\n",
        "import pandas as pd\n",
        "\n",
        "import numpy as np"
      ],
      "metadata": {
        "id": "48IPWJIt59-Y"
      },
      "execution_count": 1,
      "outputs": []
    },
    {
      "cell_type": "markdown",
      "source": [
        "## Jessie Grewal\n",
        "\n",
        "_Neur 265: Intro to Neural Data Analysis_\n",
        "\n",
        "Date: __2-10-2023__"
      ],
      "metadata": {
        "id": "nF1qRQRm61fH"
      }
    },
    {
      "cell_type": "code",
      "source": [
        "# This code cell converts my csv files into Pandas Dataframes.\n",
        "\n",
        "vrest_1_url = 'https://raw.githubusercontent.com/Jessie-Grewal/Neur265/main/vrest_1.csv'\n",
        "vrest_2_url = 'https://raw.githubusercontent.com/Jessie-Grewal/Neur265/main/vrest_2.csv'\n",
        "pandas_data1 = pd.read_csv(vrest_1_url)\n",
        "pandas_data2 = pd.read_csv(vrest_2_url)     \n",
        "\n",
        "\n"
      ],
      "metadata": {
        "id": "fxbBgOIa7yxc"
      },
      "execution_count": 33,
      "outputs": []
    },
    {
      "cell_type": "code",
      "source": [
        "# This code cell converts pandas_data1 into a list variable called data1 and converts pandas_data2 into a list variable called data2.\n",
        "\n",
        "data1 = pandas_data1.values.tolist()\n",
        "data2 = pandas_data2.values.tolist()"
      ],
      "metadata": {
        "id": "6ns1Ie2v-c4k"
      },
      "execution_count": 34,
      "outputs": []
    },
    {
      "cell_type": "code",
      "source": [
        "# This code cell un-brackets each individual data point using the np.squeeze function.\n",
        "data1 = np.squeeze(data1)\n",
        "data2 = np.squeeze(data2)"
      ],
      "metadata": {
        "id": "OYyLqbJ1_Itj"
      },
      "execution_count": 35,
      "outputs": []
    },
    {
      "cell_type": "code",
      "source": [
        "# This code cell prints the length of the list data1.\n",
        "\n",
        "len(data1)"
      ],
      "metadata": {
        "id": "HIjXEXjwAdP8",
        "outputId": "f94230f0-dea3-4fd4-8ca6-fed2e0354e03",
        "colab": {
          "base_uri": "https://localhost:8080/"
        }
      },
      "execution_count": 36,
      "outputs": [
        {
          "output_type": "execute_result",
          "data": {
            "text/plain": [
              "12"
            ]
          },
          "metadata": {},
          "execution_count": 36
        }
      ]
    },
    {
      "cell_type": "code",
      "source": [
        "# This code cell prints the 5th, 6th, 7th, and 8th elements of data2.\n",
        "\n",
        "data2[6:10]"
      ],
      "metadata": {
        "id": "p5phNZNgA_qL",
        "outputId": "3d1c4146-c3f6-4258-88cd-969d9b5d0a0a",
        "colab": {
          "base_uri": "https://localhost:8080/"
        }
      },
      "execution_count": 39,
      "outputs": [
        {
          "output_type": "execute_result",
          "data": {
            "text/plain": [
              "array([-72.99005714, -67.65620518, -71.15641308, -76.08525009])"
            ]
          },
          "metadata": {},
          "execution_count": 39
        }
      ]
    },
    {
      "cell_type": "code",
      "source": [
        "# This code cell prints the second-to-last and last elements of data1 using negative indexing. \n",
        "\n",
        "data1[-2:]"
      ],
      "metadata": {
        "id": "x9cYTebqDdtt",
        "outputId": "03ecdccd-5cd0-49c1-b44d-78607a26227a",
        "colab": {
          "base_uri": "https://localhost:8080/"
        }
      },
      "execution_count": 44,
      "outputs": [
        {
          "output_type": "execute_result",
          "data": {
            "text/plain": [
              "array([-66.69574314, -75.32606021])"
            ]
          },
          "metadata": {},
          "execution_count": 44
        }
      ]
    },
    {
      "cell_type": "code",
      "source": [
        "# This code cell prints the type of data2.\n",
        "\n",
        "type(data2)"
      ],
      "metadata": {
        "id": "9BEnTAeNEQe7",
        "outputId": "7a0f428c-6de1-4d8c-fd2b-699102018fb4",
        "colab": {
          "base_uri": "https://localhost:8080/"
        }
      },
      "execution_count": 48,
      "outputs": [
        {
          "output_type": "execute_result",
          "data": {
            "text/plain": [
              "numpy.ndarray"
            ]
          },
          "metadata": {},
          "execution_count": 48
        }
      ]
    },
    {
      "cell_type": "code",
      "source": [
        "# This code cell makes a histogram of data1.\n",
        "\n",
        "plt.hist(data1)"
      ],
      "metadata": {
        "id": "kSIuWSXwE438",
        "outputId": "21324954-6143-4a1a-8a07-07e30d05e0f1",
        "colab": {
          "base_uri": "https://localhost:8080/",
          "height": 352
        }
      },
      "execution_count": 52,
      "outputs": [
        {
          "output_type": "execute_result",
          "data": {
            "text/plain": [
              "(array([2., 0., 2., 1., 1., 0., 1., 2., 0., 3.]),\n",
              " array([-78.96686068, -77.64715376, -76.32744684, -75.00773993,\n",
              "        -73.68803301, -72.36832609, -71.04861917, -69.72891225,\n",
              "        -68.40920534, -67.08949842, -65.7697915 ]),\n",
              " <a list of 10 Patch objects>)"
            ]
          },
          "metadata": {},
          "execution_count": 52
        },
        {
          "output_type": "display_data",
          "data": {
            "text/plain": [
              "<Figure size 432x288 with 1 Axes>"
            ],
            "image/png": "[encoded data removed]"
          },
          "metadata": {
            "needs_background": "light"
          }
        }
      ]
    },
    {
      "cell_type": "code",
      "source": [
        "# Set labels for x any y axes of histogrm for data1. \n",
        "\n",
        "plt.hist(data1)\n",
        "plt.xlabel('Membrane Potential (mV)')\n",
        "plt.ylabel('Number of Cells')"
      ],
      "metadata": {
        "id": "3NBJFEdZGgXG",
        "outputId": "9bfa25da-fb06-4534-afc7-4e964977cb58",
        "colab": {
          "base_uri": "https://localhost:8080/",
          "height": 296
        }
      },
      "execution_count": 59,
      "outputs": [
        {
          "output_type": "execute_result",
          "data": {
            "text/plain": [
              "Text(0, 0.5, 'Number of Cells')"
            ]
          },
          "metadata": {},
          "execution_count": 59
        },
        {
          "output_type": "display_data",
          "data": {
            "text/plain": [
              "<Figure size 432x288 with 1 Axes>"
            ],
            "image/png": "[encoded data removed]"
          },
          "metadata": {
            "needs_background": "light"
          }
        }
      ]
    },
    {
      "cell_type": "code",
      "source": [
        "# Set labels for x any y axes of histogrm for data2.\n",
        "\n",
        "plt.hist(data2)\n",
        "plt.xlabel('Membrane Potential (mV)')\n",
        "plt.ylabel('Number of Cells')\n"
      ],
      "metadata": {
        "id": "ZhOdbS_sKpL6",
        "outputId": "fd02ecbe-b99c-4f00-b8e2-585683b365bd",
        "colab": {
          "base_uri": "https://localhost:8080/",
          "height": 296
        }
      },
      "execution_count": 60,
      "outputs": [
        {
          "output_type": "execute_result",
          "data": {
            "text/plain": [
              "Text(0, 0.5, 'Number of Cells')"
            ]
          },
          "metadata": {},
          "execution_count": 60
        },
        {
          "output_type": "display_data",
          "data": {
            "text/plain": [
              "<Figure size 432x288 with 1 Axes>"
            ],
            "image/png": "[encoded data removed]"
          },
          "metadata": {
            "needs_background": "light"
          }
        }
      ]
    },
    {
      "cell_type": "markdown",
      "source": [
        "# Differences between histograms\n",
        "\n",
        "This histogram for data1 shows that this group of cells tends to have a more positive resting membrane potential than the cells comprising data2 given that many of the cells in data1 have a membrane potential that greater than -72mV. On the other hand, the cells from data2 tend to be more negative than -72mV. "
      ],
      "metadata": {
        "id": "ERh8VVHKK29u"
      }
    },
    {
      "cell_type": "code",
      "source": [
        "# Making a list, data3, that is comprised of data1 and data2\n",
        "\n",
        "data3 = [data1, data2]"
      ],
      "metadata": {
        "id": "AOOZQFhXNLVB"
      },
      "execution_count": 66,
      "outputs": []
    },
    {
      "cell_type": "code",
      "source": [
        "# Printing the last element of data2\n",
        "\n",
        "print(data3[1][-1])"
      ],
      "metadata": {
        "id": "1_sTBijSNd1Z",
        "outputId": "67d443af-64ed-44b1-dccd-c83d83bc84f2",
        "colab": {
          "base_uri": "https://localhost:8080/"
        }
      },
      "execution_count": 69,
      "outputs": [
        {
          "output_type": "stream",
          "name": "stdout",
          "text": [
            "-78.42680359\n"
          ]
        }
      ]
    }
  ]
}