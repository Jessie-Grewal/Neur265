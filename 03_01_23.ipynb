{
  "nbformat": 4,
  "nbformat_minor": 0,
  "metadata": {
    "colab": {
      "provenance": [],
      "include_colab_link": true
    },
    "kernelspec": {
      "name": "python3",
      "display_name": "Python 3"
    },
    "language_info": {
      "name": "python"
    }
  },
  "cells": [
    {
      "cell_type": "markdown",
      "metadata": {
        "id": "view-in-github",
        "colab_type": "text"
      },
      "source": [
        "<a href=\"https://colab.research.google.com/github/Jessie-Grewal/Neur265/blob/main/03_01_23.ipynb\" target=\"_parent\"><img src=\"https://colab.research.google.com/assets/colab-badge.svg\" alt=\"Open In Colab\"/></a>"
      ]
    },
    {
      "cell_type": "markdown",
      "source": [
        "# Statistics for Neuroscientists\n",
        "\n",
        "This notebook will discuss **descriptive** and **inferential** statistics, and introduce ways to implement them in Python.\n",
        "\n",
        "### By the end of this notebook, you will be able to:\n",
        "\n",
        "* Identify when to use descriptive or inferential statistics\n",
        "* Apply the appropriate statistical tests to compare two groups\n",
        "* Use the stats package from SciPy to run simple tests in Python\n",
        "* Test direction selectivity differences in two Brain Observatory cell types\n",
        "\n",
        "\n"
      ],
      "metadata": {
        "id": "EvkdoGKpqxDB"
      }
    },
    {
      "cell_type": "markdown",
      "source": [
        "## Part One: Population vs sample distributions\n",
        "\n",
        "**Descriptive statistics** summarize the main features of a data set.\n",
        "\n",
        "It's important to distinguish between the following:\n",
        "\n",
        "* **Observation**: result from one trial of an experiment (like a sweep)\n",
        "* **Sample**: results from multiple independent trials (all sweeps)\n",
        "* **Population**: the *ground truth*; all possible observations that could be seen\n",
        "\n",
        "Distributions differ in their **location** (mean, $\\\\mu$) and **spread** (standard deviation, $\\\\sigma$). Below, we'll define a **population distribution** and plot it."
      ],
      "metadata": {
        "id": "fHn9N0l_rMQt"
      }
    },
    {
      "cell_type": "code",
      "source": [
        "# Import our necessary toolboxes and tell matplotlib to plot inline\n",
        "import numpy as np\n",
        "%matplotlib inline\n",
        "import matplotlib.pyplot as plt\n",
        "\n",
        "# Decide on a mean and a standard deviation\n",
        "mu, sigma = 3, 2\n",
        "\n",
        "# Use np.random.normal to create a distribution of 10,000 points with our given mu & sigma\n",
        "pop = np.random.normal(mu, sigma, 10000)"
      ],
      "metadata": {
        "id": "ais0ngbBrlZT"
      },
      "execution_count": 1,
      "outputs": []
    },
    {
      "cell_type": "code",
      "source": [
        "# Plot a histogram with 30 bins\n",
        "# Giving it the argument density=True will plot normalized counts\n",
        "# This will create a probability density (rather than raw counts)\n",
        "plt.hist(pop, 30, density=True)\n",
        "plt.axvline(mu,color='r')\n",
        "plt.title('Population distribution of 10,000 points')\n",
        "plt.show()"
      ],
      "metadata": {
        "id": "YXvbuoAgrucu",
        "outputId": "d9ae83f0-41c8-4742-ad6a-639cb73a839f",
        "colab": {
          "base_uri": "https://localhost:8080/",
          "height": 281
        }
      },
      "execution_count": 2,
      "outputs": [
        {
          "output_type": "display_data",
          "data": {
            "text/plain": [
              "<Figure size 432x288 with 1 Axes>"
            ],
            "image/png": "[encoded data removed]"
          },
          "metadata": {
            "needs_background": "light"
          }
        }
      ]
    },
    {
      "cell_type": "markdown",
      "source": [
        "There are various ways we can describe the distribution of the dataset, beyond the standard deviation:\n",
        "\n",
        "* Range (minimum and maximum)\n",
        "* Variance ($\\\\sigma^2$)\n",
        "* Standard Error of the Mean (S.E.M., $\\\\sigma/\\\\sqrt{n}$)\n",
        "* Confidence Intervals\n",
        "\n",
        "We can easily get many of these descriptive statistics by using the `scipy stats` package method `describe()`. [Documentation here.](https://docs.scipy.org/doc/scipy/reference/generated/scipy.stats.describe.html)"
      ],
      "metadata": {
        "id": "na83NXSZrzFV"
      }
    },
    {
      "cell_type": "code",
      "source": [
        "from scipy import stats\n",
        "\n",
        "stats.describe(pop)"
      ],
      "metadata": {
        "id": "F66gjMPxsFeK",
        "outputId": "955f6fae-fc20-422b-c4a7-df6b50ef0b3d",
        "colab": {
          "base_uri": "https://localhost:8080/"
        }
      },
      "execution_count": 3,
      "outputs": [
        {
          "output_type": "execute_result",
          "data": {
            "text/plain": [
              "DescribeResult(nobs=10000, minmax=(-3.9871939875827307, 10.58831229117234), mean=2.988353981564104, variance=3.962801477149563, skewness=0.0077684509184854506, kurtosis=-0.00751454782406169)"
            ]
          },
          "metadata": {},
          "execution_count": 3
        }
      ]
    },
    {
      "cell_type": "markdown",
      "source": [
        "We created a normal distribution from a mean of 3 but with limited points, so these values are *just* slightly off. You'll also notice that the variance is indeed our standard deviation (2) squared.\n",
        "\n",
        "Our variable `pop` is the \\\"ground truth\\\" population. However, we'll rarely have *10,000* datapoints in our sample. So, let's generate a more realistic sample, and see how the mean compares."
      ],
      "metadata": {
        "id": "XUiOEdrmsUFU"
      }
    },
    {
      "cell_type": "code",
      "source": [
        "# Create a sample distribution with less data points\n",
        "sample_mean, sample_sigma = 3, 2\n",
        "sample = np.random.normal(sample_mean, sample_sigma, 20)\n",
        "\n",
        "# Plot our histogram, with alpha to 0.5 which will make the chart slightly transparent\n",
        "plt.hist(pop, 30, alpha=0.5, density=True)\n",
        "plt.hist(sample, 30, alpha=0.5, color='r',density=True)\n",
        "plt.axvline(np.mean(pop),color='blue') # Take the mean and plot a vertical blue line \n",
        "plt.axvline(np.mean(sample),color='red') # Take the mean and plot a vertical red line \n",
        "plt.show()"
      ],
      "metadata": {
        "id": "FH2BmXFtse61",
        "outputId": "6a358d2a-04b4-460b-e2ff-2b6d4002df2f",
        "colab": {
          "base_uri": "https://localhost:8080/",
          "height": 265
        }
      },
      "execution_count": 4,
      "outputs": [
        {
          "output_type": "display_data",
          "data": {
            "text/plain": [
              "<Figure size 432x288 with 1 Axes>"
            ],
            "image/png": "[encoded data removed]"
          },
          "metadata": {
            "needs_background": "light"
          }
        }
      ]
    },
    {
      "cell_type": "code",
      "source": [
        "# Look at the descriptive statistics of our sample\n",
        "print(stats.describe(sample))"
      ],
      "metadata": {
        "id": "dUzQxuk3shmb",
        "outputId": "e1d386aa-38df-483b-b920-4828878e588e",
        "colab": {
          "base_uri": "https://localhost:8080/"
        }
      },
      "execution_count": 5,
      "outputs": [
        {
          "output_type": "stream",
          "name": "stdout",
          "text": [
            "DescribeResult(nobs=20, minmax=(-0.13008001236333255, 6.767450785506217), mean=2.922560301498682, variance=4.1338477417151, skewness=0.2384021296671839, kurtosis=-0.9754578027650016)\n"
          ]
        }
      ]
    },
    {
      "cell_type": "markdown",
      "source": [
        "## Part Two: The Central Limit Theorem\n",
        "\n",
        "With fewer samples, the mean of the sample distribution tends to be further from the mean of the population distribution. This is known as the **central limit theorem**, which states that the distribution of sample means will become increasingly close to a normal distribution as the sample size increases, regardless of the shape of the population distribution."
      ],
      "metadata": {
        "id": "FRwZ-sjusqMs"
      }
    },
    {
      "cell_type": "code",
      "source": [
        "fig,ax = plt.subplots(1,5,figsize=(20,5),sharey=True)\n",
        "\n",
        "mu = 0\n",
        "\n",
        "sample_means = []\n",
        "\n",
        "# For each subplot, create a plot.\n",
        "for a in range(len(ax)):\n",
        "    \n",
        "    # Make the sample size = to 3^(a+1)\n",
        "    sample_size = 3**(a+1)\n",
        "    \n",
        "    # Calculate the mean of sample of sample_size designated above, 10000 times\n",
        "    for x in range(10000):\n",
        "        sample_dist = np.random.gamma(7.5, 1, sample_size) # Create a normal distribution with mu, sigma\n",
        "        sample_means.append(np.mean(sample_dist)) # Append the mean of this distribution\n",
        "        \n",
        "    ax[a].hist(sample_means,color='teal',alpha = .5) # Plot the distribution of means\n",
        "    ax[a].set_title('sample size= '+ str(sample_size)+', mean = '+ str(np.round(np.mean(sample_means),3)))\n",
        "    ax[a].set_xlim([-20,20])\n",
        "    sample_means = [] # Reset the sample means\n",
        "\n",
        "plt.suptitle('Distributions of 10,000 sample means for a population with mean '+str(mu),fontsize=16)\n",
        "\n",
        "plt.show()"
      ],
      "metadata": {
        "id": "p-we6cpss2EE",
        "outputId": "31a9d218-d1f4-48f6-f9dd-f4653828c133",
        "colab": {
          "base_uri": "https://localhost:8080/",
          "height": 356
        }
      },
      "execution_count": 30,
      "outputs": [
        {
          "output_type": "display_data",
          "data": {
            "text/plain": [
              "<Figure size 1440x360 with 5 Axes>"
            ],
            "image/png": "[encoded data removed]"
          },
          "metadata": {
            "needs_background": "light"
          }
        }
      ]
    },
    {
      "cell_type": "markdown",
      "source": [
        "## Part Three: Skewed Distributions\n",
        "\n",
        "However, not every population in nature is **normally distributed**. In fact, most populations are slightly skewed. Let's demonstrate a population distribution and sample distribution that is drawn from a [gamma distribution](https://en.wikipedia.org/wiki/Gamma_distribution)."
      ],
      "metadata": {
        "id": "BibYcLQouwRe"
      }
    },
    {
      "cell_type": "code",
      "source": [
        "# Create a skewed distribution of 10,000 points with our given mu & sigma\n",
        "pop_size = 10000\n",
        "sample_size = 100\n",
        "\n",
        "skewed_pop = np.random.gamma(7.5,1,pop_size)\n",
        "skewed_sample = np.random.gamma(7.5,1,sample_size)\n",
        "print(stats.skewtest(skewed_pop))\n",
        "\n",
        "stats_vars = stats.skewtest(skewed_pop)\n",
        "p_val = stats_vars.pvalue\n",
        "\n",
        "pop_stats = stats.describe(skewed_sample)\n",
        "print(pop_stats)\n",
        "sample_stats = stats.describe(skewed_pop)\n",
        "print(sample_stats)\n",
        "\n",
        "plt.hist(skewed_pop, 30, alpha = .3, density=True)\n",
        "plt.hist(skewed_sample, 30, alpha = .3, density=True)\n",
        "\n",
        "if p_val > 0.05: \n",
        "  plt.axvline(pop_stats.mean,color='blue')\n",
        "  plt.axvline(sample_stats.mean,color='orange') # plot the mean of the sample\n",
        "elif p_val < 0.05:\n",
        "  plt.axvline(np.median(skewed_pop), color = 'teal')\n",
        "  plt.axvline(np.median(skewed_sample), color = 'red')\n",
        "  plt.legend(['Population','Sample'])\n",
        "\n",
        "  plt.show()"
      ],
      "metadata": {
        "id": "uMMaX_b7u2_q",
        "outputId": "a54ccb96-4072-433e-e496-f9e4d5a59986",
        "colab": {
          "base_uri": "https://localhost:8080/",
          "height": 341
        }
      },
      "execution_count": 31,
      "outputs": [
        {
          "output_type": "stream",
          "name": "stdout",
          "text": [
            "SkewtestResult(statistic=27.735768506353466, pvalue=2.5873739725025853e-169)\n",
            "DescribeResult(nobs=100, minmax=(2.1963973241743937, 18.427532528695526), mean=7.5747340279993605, variance=8.458069553014493, skewness=0.8459417684003727, kurtosis=1.0782865478994204)\n",
            "DescribeResult(nobs=10000, minmax=(1.0758489414948054, 23.112029154520936), mean=7.502262061853151, variance=7.558515452469713, skewness=0.7596561270720588, kurtosis=0.8281939364338471)\n"
          ]
        },
        {
          "output_type": "display_data",
          "data": {
            "text/plain": [
              "<Figure size 432x288 with 1 Axes>"
            ],
            "image/png": "[encoded data removed]"
          },
          "metadata": {
            "needs_background": "light"
          }
        }
      ]
    },
    {
      "cell_type": "markdown",
      "source": [
        "You might notice that with this skewed population, the mean is a pretty poor descriptor of both distributions. **When the skew is bad (*statistically bad*), we should report the median.**\n",
        "\n"
      ],
      "metadata": {
        "id": "afsSR0KPvBJq"
      }
    },
    {
      "cell_type": "markdown",
      "source": [
        "### Important notes:\n",
        "\n",
        "* <code>stats.describe()</code> doesn't give us the median (annoyingly) but `np.median()` can!\n",
        "* The `stats.skewtest()` method ([documentation here](https://docs.scipy.org/doc/scipy/reference/generated/scipy.stats.skewtest.html#scipy.stats.skewtest)) implements the [D'Agostino-Pearson skewness test](https://www.jstor.org/stable/2684359?seq=1), one of many different tests (e.g., the Kolmogorov-Smirov test) that can be used to check the normality of a distribution.\n",
        "* This code can return a statistic as well as a pvalue, if you designate it."
      ],
      "metadata": {
        "id": "mCTY36dSvSSS"
      }
    },
    {
      "cell_type": "markdown",
      "source": [
        "><b>Task:</b> \n",
        "1. Rework the code directly above so that if the skew is significant (you can use <code>stats.skewtest()</code> for that!), plot and report the <b>median</b> instead of the mean.\n",
        "2. Rework our demonstration of the central limit theorem for a skewed, rather than a normal, population. Does the theorem still hold?\n",
        "* does not matter the shape of the distribution, sample means will approximate normal dist no matter what"
      ],
      "metadata": {
        "id": "htEmP2-Wvmio"
      }
    },
    {
      "cell_type": "markdown",
      "source": [
        "## Part Four: Hypothesis Testing\n",
        "\n",
        "**Inferential statistics** generalize from observed data to the world at large\n",
        "\n",
        "Most often, the goal of our hypothesis testing is to test whether or not two distributions are different, or if a distribution has a different mean than the underlying population distribution.\n",
        "\n",
        "With the normal sample population we generated above, our **null hypothesis** is that the mean of our sample distribution is equal to 3. We want to test the probability that this is not true. Since we know our distributions are normal (they're generated from a normal distribution!) we can use **parametric statistics** to test our hypothesis.\n",
        "\n",
        "The SciPy stats package has [many hypothesis testing tools](https://docs.scipy.org/doc/scipy/reference/stats.html) (see Statistical Tests). First, we can use a one-way t-test to ask whether our population has a mean different than three."
      ],
      "metadata": {
        "id": "z0FHZ1oGv0QQ"
      }
    },
    {
      "cell_type": "code",
      "source": [
        "sample_mean, sample_sigma = 3, 2\n",
        "sample_pop = np.random.normal(sample_mean, sample_sigma, 1000)\n",
        "stats.ttest_1samp(sample_pop,3)"
      ],
      "metadata": {
        "id": "YSTc0RTswETV",
        "outputId": "6508839c-ef7e-49c3-ba6d-ae87402f0627",
        "colab": {
          "base_uri": "https://localhost:8080/"
        }
      },
      "execution_count": 35,
      "outputs": [
        {
          "output_type": "execute_result",
          "data": {
            "text/plain": [
              "Ttest_1sampResult(statistic=1.692700802476936, pvalue=0.09082422998715836)"
            ]
          },
          "metadata": {},
          "execution_count": 35
        }
      ]
    },
    {
      "cell_type": "markdown",
      "source": [
        "Not surprisingly, if we create a normal distribution of mean 3, the distribution is not likely to be different than 3. However, what happens if we change the mean, standard deviation, or sample size?\n",
        "\n",
        "In most cases, we will be testing whether or not two distributions are different from eachother. In order to do so, we can use the independent t-test in our stats package: `stats.ttest_ind()`. If we had paired samples, we would use a dependent t-test [as seen here](https://docs.scipy.org/doc/scipy/reference/generated/scipy.stats.ttest_rel.html#scipy.stats.ttest_rel)."
      ],
      "metadata": {
        "id": "2yUpMH7UwKg_"
      }
    },
    {
      "cell_type": "code",
      "source": [
        "# Create two distributions and test whether they're different\n",
        "pop_1 = np.random.normal(3,2,20)\n",
        "pop_2 = np.random.normal(5,2,20)\n",
        "\n",
        "stats.ttest_ind(pop_1,pop_2)"
      ],
      "metadata": {
        "id": "wUQJhuG1wW34",
        "outputId": "dec2d87a-37b2-4a3a-b4e0-d56937e97fda",
        "colab": {
          "base_uri": "https://localhost:8080/"
        }
      },
      "execution_count": 38,
      "outputs": [
        {
          "output_type": "execute_result",
          "data": {
            "text/plain": [
              "Ttest_indResult(statistic=-3.1131185540947315, pvalue=0.003509415620176175)"
            ]
          },
          "metadata": {},
          "execution_count": 38
        }
      ]
    },
    {
      "cell_type": "markdown",
      "source": [
        "If one of our populations is skewed, however, we **cannot use a t-test**. A t-test assumes that the populations are normally distributed. For skewed populations, we can use either the [Mann-Whitney U](https://docs.scipy.org/doc/scipy/reference/generated/scipy.stats.mannwhitneyu.html#scipy.stats.mannwhitneyu) (for independent samples, `stats.mannwhitneyu()`) or the [Wilcoxon Signed Rank Test](https://docs.scipy.org/doc/scipy/reference/generated/scipy.stats.wilcoxon.html#scipy.stats.wilcoxon) (for dependent/paired samples,`stats.wilcoxon()`)."
      ],
      "metadata": {
        "id": "BlG04Tr5wc5T"
      }
    },
    {
      "cell_type": "code",
      "source": [
        "skewed_pop = np.random.gamma(7.5,1,10000)\n",
        "comparison_pop = np.random.normal(8,2,20)\n",
        "\n",
        "stats.mannwhitneyu(skewed_pop,comparison_pop)"
      ],
      "metadata": {
        "id": "S1JTqMCtwiKz"
      },
      "execution_count": null,
      "outputs": []
    },
    {
      "cell_type": "markdown",
      "source": [
        "## Part Five: Testing Direction Selectivity in the Brain Observatory\n",
        "\n",
        "Let's work with some real data to apply what we've learned above. Below, we'll create our BrainObservatoryCache instance and look at the possible cre_lines."
      ],
      "metadata": {
        "id": "VUYcIQna4dvS"
      }
    },
    {
      "cell_type": "code",
      "source": [
        "try:\n",
        "    import allensdk\n",
        "    print('allensdk imported')\n",
        "except ImportError as e:\n",
        "    !pip install allensdk\n",
        "\n",
        "# Import pandas & the necessary module from the AllenSDK\n",
        "import pandas as pd\n",
        "from allensdk.core.brain_observatory_cache import BrainObservatoryCache\n",
        "\n",
        "# Create an instance of the Brain Observatory Cache as an object, \"boc.\"\n",
        "boc = BrainObservatoryCache(manifest_file='/datasets/allen-brain-observatory/visual-coding-2p/manifest.json')\n",
        "\n",
        "cre_lines = boc.get_all_cre_lines()\n",
        "print(cre_lines)"
      ],
      "metadata": {
        "id": "_XQ9HpTD4iSf"
      },
      "execution_count": null,
      "outputs": []
    },
    {
      "cell_type": "markdown",
      "source": [
        "There's a longstanding debate over whether inhibitory cells in cortex are as direction selective as excitatory cells in cortex. Let's compare the direction selectivity of two different Cre lines: Emx1-Cre, [which marks excitatory cells in cortex](https://www.jneurosci.org/content/22/15/6309) and PV-Cre, which marks most of the inhibitory cells in cortex."
      ],
      "metadata": {
        "id": "dXC2FXsz5rm6"
      }
    },
    {
      "cell_type": "markdown",
      "source": [
        "><b>Task</b>: Get the experiment containers with <code>boc.get_experiment_containers(targeted_structures=[],cre_lines=[])</code> for all experiments in VISp for the Emx1-IRES-Cre and Pvalb-IRES-Cre lines, convert them to Pandas dataframes, and assign them to <code>emx_df</code> and <code>pv_df</code>, respectively."
      ],
      "metadata": {
        "id": "smQN3k5l5vel"
      }
    },
    {
      "cell_type": "code",
      "source": [
        "# Extract experiment containers\n",
        "\n",
        "print(cre_lines)\n",
        "\n"
      ],
      "metadata": {
        "id": "9xEk9vOF50G9"
      },
      "execution_count": null,
      "outputs": []
    },
    {
      "cell_type": "markdown",
      "source": [
        "Now, we'll need to use the `get_cell_specimens()` method to extract all of the specimens with matching experiment container IDs (running this cell might take a few minutes)."
      ],
      "metadata": {
        "id": "jVEWHwmD8aft"
      }
    },
    {
      "cell_type": "code",
      "source": [
        "emx_containers = list(emx_df['id'])\n",
        "emx_specimens = pd.DataFrame(boc.get_cell_specimens(experiment_container_ids=emx_containers))\n",
        "\n",
        "pv_containers = list(pv_df['id'])\n",
        "pv_specimens = pd.DataFrame(boc.get_cell_specimens(experiment_container_ids=pv_containers))\n",
        "\n",
        "emx_specimens.head()"
      ],
      "metadata": {
        "id": "WXF9PWmU8edF"
      },
      "execution_count": null,
      "outputs": []
    },
    {
      "cell_type": "markdown",
      "source": [
        "><b>Task</b>: Create a plot with two subplots. The left should be a histogram of our DSI values ('dsi_dg') for Emx1-Cre and PV-Cre cells. The right should be a boxplot of the DSI values ('dsi_dg'). You can create a histogram of one column of a <code>dataframe</code> by using the syntax <code>df['column_name']</code>."
      ],
      "metadata": {
        "id": "PV7PzihF-Mmk"
      }
    },
    {
      "cell_type": "code",
      "source": [
        "# First, we need to filter NaN values out of our data because python will refuse to make boxplots if they're included\n",
        "\n",
        "emx_dsi = emx_specimens['dsi_dg']\n",
        "pv_dsi = pv_specimens['dsi_dg']\n",
        "emx_dsi = emx_dsi[~np.isnan(emx_dsi)] # Emx-IRES-Cre DSI values without NaN\n",
        "pv_dsi = pv_dsi[~np.isnan(pv_dsi)] # Pvalb-IRES-Cre DSI values without NaN\n",
        "filtered = [emx_dsi,pv_dsi]\n",
        "\n",
        "# Your code here! Start with defining your subplot axes\n",
        "\n",
        "# Next, make your histogram (see code cell in part three of this notebook for an example of how to make overlapping histograms)\n",
        "\n",
        "# Next, make your boxplot (make sure you use the filtered data!)"
      ],
      "metadata": {
        "id": "_cja3ig8-R8P"
      },
      "execution_count": null,
      "outputs": []
    },
    {
      "cell_type": "markdown",
      "source": [
        "><b>Task</b>: Determine whether these two samples of DSI values are statistically different! Write code that first checks whether or not the distributions are skewed, and then runs the appropriate statistics (hint: use the two variables that *do not* contain NaN values)."
      ],
      "metadata": {
        "id": "dIzqV4H0GWR6"
      }
    },
    {
      "cell_type": "code",
      "source": [
        "# Your code here"
      ],
      "metadata": {
        "id": "THfRn4hOG2R1"
      },
      "execution_count": null,
      "outputs": []
    }
  ]
}