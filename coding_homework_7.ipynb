{
  "nbformat": 4,
  "nbformat_minor": 0,
  "metadata": {
    "colab": {
      "provenance": [],
      "include_colab_link": true
    },
    "kernelspec": {
      "name": "python3",
      "display_name": "Python 3"
    },
    "language_info": {
      "name": "python"
    }
  },
  "cells": [
    {
      "cell_type": "markdown",
      "metadata": {
        "id": "view-in-github",
        "colab_type": "text"
      },
      "source": [
        "<a href=\"https://colab.research.google.com/github/Jessie-Grewal/Neur265/blob/main/coding_homework_7.ipynb\" target=\"_parent\"><img src=\"https://colab.research.google.com/assets/colab-badge.svg\" alt=\"Open In Colab\"/></a>"
      ]
    },
    {
      "cell_type": "markdown",
      "source": [
        "# Coding Homework #7\n",
        "\n",
        "**Instructions**\n",
        "\n",
        "1. Make a *Markdown Cell* that contains the following information:\n",
        "- Your name (small header)\n",
        "- The name of this class (italicized)\n",
        "- The date (bolded)\n",
        "\n",
        "2. Create a *Code Cell* that imports relevant modules - specifically, <code>numpy as np</code>, and <code>matplotlib.pyplot as plt</code>.\n",
        "\n",
        "3. For this assignment, you will be working with the <code>spikes_left_trial1.csv</code>, <code>spikes_right_trial1.csv</code>, <code>spikes_left_trial2</code>, and <code>spikes_right_trial2</code> files in our shared Google Drive folder. Create a *Code Cell* that imports these files as <code>numpy</code> arrays called <code>spikes_left_trial1</code>, <code>spikes_right_trial1</code>, <code>spikes_left_trial2</code>, and <code>spikes_right_trial2</code>, respectively. To do this, you should upload each file to your personal GitHub repo.\n",
        "\n",
        "4. Create a *Code Cell* that prints the <code>length</code> of each array.\n",
        "\n",
        "5. These data contain timestamp values for action potentials recorded from one neuron in the rat prefrontal cortex (PFC). Action potentials were recorded from tetrodes while the rat performed a task designed to test working memory - the **delayed alternation task**. During this task, rats were trained to go up the central stem of a _figure 8_ maze, and turn either left or right. Rewards (chocolate sprinkles) were placed at the end of the goal arm (the arm the rat went up after it made its turn at the end of the stem). The rat received a reward if it alternated between the two goal arms from trial to trial. In other words, the rat learned to go *left* on trial 1, and then *right* on trial 2, *left* on trial 3, etc. Between trials, the rat waited on a pedestal at the base of the maze for 30 seconds. This waiting period tested the rat's working memory because it had to keep in mind where it was going to go (left or right) when the 30 second waiting period was up. The spike timestamps in the four arrays you imported were from this 30 second waiting period. Specifically, <code>spikes_left_trial1</code> is from the waiting period before the first *left turn* trial (i.e., the rat turned left after the waiting period was up), and <code>spikes_right_trial1</code> is from the waiting period before the first *right turn* trial (i.e., the rat turned right after the waiting period was up). The <code>spikes_left_trial2</code> and <code>spikes_right_trial2</code> arrays are the same, but for the second left and right turn trials. We are interested to know whether the firing rate of this cell during the waiting period might predict which direction the rat turns on the upcoming trial.\n",
        "\n",
        "6. In a new *Code Cell*, write an expression to determine the firing rate of this neuron during each trial (first and second left turn trials, first and second right turn trials).\n",
        "\n",
        "7. In a new *Markdown Cell*, interpret these results - do you think this neuron fires more before left turn trials, or right turn trials?\n",
        "\n",
        "8. In a new *Code Cell*, make two subplots, and plot the spike train data from trial 1 in your first subplot, and the spike train data from trial 2 in your second subplot. You should have dots that correspond to action potentials in two rows (one for left turn, one for right turn) in each subplot. Label your axes. \n",
        "\n",
        "9. In a new *Markdown Cell*, interpret the graph from step 8. Does this neuron seem more \"bursty\", or more regular-firing, during left or right turn trials? \n",
        "\n",
        "10. In a new *Code Cell*, calculate inter-spike interval (ISI) arrays for each of your four spike arrays using the <code>np.diff()</code> function. Make sure to create a variable name for each ISI array.\n",
        "\n",
        "11. In a new *Code Cell*, make four histograms - one for each of your four ISI arrays. Set the bins for your histograms to start at time 0, and end at time 2 s, with a bin size equal to 0.01 s. Label your axes.\n",
        "\n",
        "12. In a new *Markdown Cell*, interpret your histograms. Does this neuron tend to fire in \"bursts\"? Does it have higher \"burstiness\" during left or right turn trials?\n",
        "\n",
        "13. In a new *Code Cell*, calculate the firing rate across time for each of your four arrays (trial 1 left-turn, trial 1 right-turn, trial 2 left-turn, and trial 2 right-turn). Set your time bins equal to start at 0 s, end at 30 s (the length of the waiting period), with a bin size equal to 1 s. Create two subplots, and plot the firing rate over time for each trial in each of the two subplots. For example, your first subplot should have the firing rate across time for trial 1 left-turn, and trial 1 right-turn, and your second subplot should have the firing rate across time for trial 2 left-turn, and trial 2 right-turn. Make the line for right-turn trials blue, and the line for left-turn trials red. Label your axes.\n",
        "\n",
        "14. In a new *Markdown Cell*, interpret your graph from step 13. Does the firing rate between left and right turn trials differ at specific timepoints during the 30 s waiting period? Is the pattern different for trial 1 and trial 2? \n",
        "\n",
        "15. Make sure to put a <code>#</code> in each *Code Cell* to describe what it does.\n",
        "\n",
        "16. Save a copy of this notebook to your GitHub repo with the title <code>coding_homework_7.ipynb</code>."
      ],
      "metadata": {
        "id": "8PeYpSUQiq6c"
      }
    },
    {
      "cell_type": "markdown",
      "source": [
        "### Jessie Grewal\n",
        "\n",
        "_Neur 265: Intro to Neural Data Analysis_\n",
        "\n",
        "Date: __4-14-2023__"
      ],
      "metadata": {
        "id": "FMWDrEVzXD91"
      }
    },
    {
      "cell_type": "code",
      "source": [
        "#  imports numpy any matplotlib\n",
        "import numpy as np\n",
        "import matplotlib.pyplot as plt"
      ],
      "metadata": {
        "id": "grgNE4n-XF5l"
      },
      "execution_count": 1,
      "outputs": []
    },
    {
      "cell_type": "code",
      "source": [
        "# imports data files as np arrays; url1 was not able to be input and an error was received indicating that it was an empty input file\n",
        "\n",
        "# url1 = 'https://raw.githubusercontent.com/Jessie-Grewal/Neur265/main/spikes_left_trial1.csv'\n",
        "url2 = 'https://raw.githubusercontent.com/Jessie-Grewal/Neur265/main/spikes_left_trial2.csv'\n",
        "url3 = 'https://raw.githubusercontent.com/Jessie-Grewal/Neur265/main/spikes_right_trial1.csv'\n",
        "url4 = 'https://raw.githubusercontent.com/Jessie-Grewal/Neur265/main/spikes_right_trial2.csv'\n",
        "\n",
        "spikes_left_trial1 = np.array([1.262944,3.018684,3.0761,3.120368,3.802812,5.036098,5.259678,5.324988,5.345755,5.625,6.723578,7.080206,7.339944,11.707253,12.161663,12.297875,12.338948,12.58904,12.783682,12.796953,12.814647,12.85403,12.879589,12.919464,13.006647,13.675975,14.120401,14.206571,14.86533,14.908,14.918568,15.095607,15.14479,15.187737,15.19984,15.226997,15.23695,15.270865,15.470084,15.550755,15.968178,16.107094,16.164049,16.587125,16.726962,16.758481,16.790737,16.907074,17.097568,17.402311,17.441233,17.466546,20.605854,20.613349,24.829362,24.835045,24.934578,24.982163,24.993468,25.944529,25.975802,27.395957,28.51352,29.135323,29.657256])\n",
        "spikes_left_trial2 = np.loadtxt(url2, delimiter = ',')\n",
        "spikes_right_trial1 = np.loadtxt(url3, delimiter = ',')\n",
        "spikes_right_trial2 = np.loadtxt(url4, delimiter = ',')"
      ],
      "metadata": {
        "id": "nWuhq2lBXJUg"
      },
      "execution_count": 20,
      "outputs": []
    },
    {
      "cell_type": "code",
      "source": [
        "print(len(spikes_left_trial1))\n",
        "print(len(spikes_left_trial2))\n",
        "print(len(spikes_right_trial1))\n",
        "print(len(spikes_right_trial2))"
      ],
      "metadata": {
        "id": "w06SnpkSbXQz",
        "outputId": "413bb01a-6b8b-4a58-ab47-c4f13f40b354",
        "colab": {
          "base_uri": "https://localhost:8080/"
        }
      },
      "execution_count": 24,
      "outputs": [
        {
          "output_type": "stream",
          "name": "stdout",
          "text": [
            "65\n",
            "53\n",
            "45\n",
            "69\n"
          ]
        }
      ]
    },
    {
      "cell_type": "code",
      "source": [
        "waiting_time = 30\n",
        "\n",
        "fr_left1 = len(spikes_left_trial1)/waiting_time \n",
        "fr_left2 = len(spikes_left_trial2)/waiting_time\n",
        "fr_right1 = len(spikes_right_trial1)/waiting_time\n",
        "fr_right2 = len(spikes_right_trial2)/waiting_time"
      ],
      "metadata": {
        "id": "LQluSUm6blBt"
      },
      "execution_count": 28,
      "outputs": []
    },
    {
      "cell_type": "code",
      "source": [
        "print(fr_left1)\n",
        "print(fr_left2)\n",
        "print(fr_right1)\n",
        "print(fr_right1)"
      ],
      "metadata": {
        "id": "pS2k4I3ndQ8t",
        "outputId": "e5331be9-78e6-4e38-d6c4-4b968de50c33",
        "colab": {
          "base_uri": "https://localhost:8080/"
        }
      },
      "execution_count": 29,
      "outputs": [
        {
          "output_type": "stream",
          "name": "stdout",
          "text": [
            "2.1666666666666665\n",
            "1.7666666666666666\n",
            "1.5\n",
            "1.5\n"
          ]
        }
      ]
    },
    {
      "cell_type": "markdown",
      "source": [
        "It appears that the neuron fire more during left turn trials given that firing rate for left turn trials in trials 1 and 2 are 2.167 and 1.767, respectively, but the firing rate in right turn trials was 1.5."
      ],
      "metadata": {
        "id": "SZlI-q_hd1Gj"
      }
    },
    {
      "cell_type": "code",
      "source": [
        "fig, ax = plt.subplots(1,2, figsize = (15,5))\n",
        "ax[0].plot(spikes_left_trial1, np.ones_like(spikes_left_trial1), '.', color = 'b', label = 'Left') \n",
        "ax[0].plot(spikes_right_trial1, 2 * np.ones_like(spikes_right_trial1), '.', color = 'r', label = 'Right')\n",
        "ax[0].set_xlabel('Time [s]')\n",
        "ax[0].legend(['Left', 'Right'])                   \n",
        "ax[1].plot(spikes_left_trial2, np.ones_like(spikes_left_trial2), '.', color = 'b') \n",
        "ax[1].plot(spikes_right_trial2, 2 * np.ones_like(spikes_right_trial2), '.', color = 'r')\n",
        "ax[1].set_xlabel('Time [s]')\n",
        "ax[1].legend(['Left', 'Right'])   "
      ],
      "metadata": {
        "id": "e-qdV4mdeCY7",
        "outputId": "1d20b119-8caf-4799-ce34-346feaf47709",
        "colab": {
          "base_uri": "https://localhost:8080/",
          "height": 460
        }
      },
      "execution_count": 45,
      "outputs": [
        {
          "output_type": "execute_result",
          "data": {
            "text/plain": [
              "<matplotlib.legend.Legend at 0x7fb8e0ed6c10>"
            ]
          },
          "metadata": {},
          "execution_count": 45
        },
        {
          "output_type": "display_data",
          "data": {
            "text/plain": [
              "<Figure size 1500x500 with 2 Axes>"
            ],
            "image/png": "[encoded data removed]"
          },
          "metadata": {}
        }
      ]
    },
    {
      "cell_type": "markdown",
      "source": [],
      "metadata": {
        "id": "WYwYfUXLgaDg"
      }
    },
    {
      "cell_type": "code",
      "source": [
        "ISI_left1 = np.diff(spikes_left_trial1)\n",
        "ISI_left2 = np.diff(spikes_left_trial2)\n",
        "ISI_right1 = np.diff(spikes_right_trial1)\n",
        "ISI_right2 = np.diff(spikes_right_trial2)"
      ],
      "metadata": {
        "id": "1Y-3jeM_gacW"
      },
      "execution_count": 55,
      "outputs": []
    },
    {
      "cell_type": "code",
      "source": [
        "bins = np.arange(0, 2, 0.01)\n",
        "fig, ax = plt.subplots(2,2, figsize = (10,5))\n",
        "ax[0,0].hist(ISI_left1,bins)\n",
        "ax[0,0].set_xlabel('Duration of ISI')\n",
        "ax[0,0].set_title('Left Trial 1')\n",
        "ax[0,1].hist(ISI_left2,bins)\n",
        "ax[0,1].set_xlabel('Duration of ISI')\n",
        "ax[0,1].set_title('Left Trial 2')\n",
        "ax[1,0].hist(ISI_right1,bins)\n",
        "ax[1,0].set_xlabel('Duration of ISI')\n",
        "ax[1,0].set_title('Right Trial 1')\n",
        "ax[1,1].hist(ISI_right2,bins)\n",
        "ax[1,1].set_xlabel('Duration of ISI')\n",
        "ax[1,1].set_title('Right Trial 2')\n",
        "plt.tight_layout()"
      ],
      "metadata": {
        "id": "1l9MRnXWg1bC",
        "outputId": "f34f15d1-f783-47be-8e27-ce3e0a6f8010",
        "colab": {
          "base_uri": "https://localhost:8080/",
          "height": 507
        }
      },
      "execution_count": 68,
      "outputs": [
        {
          "output_type": "display_data",
          "data": {
            "text/plain": [
              "<Figure size 1000x500 with 4 Axes>"
            ],
            "image/png": "[encoded data removed]"
          },
          "metadata": {}
        }
      ]
    },
    {
      "cell_type": "markdown",
      "source": [
        "The neuron tends to fire in bursts as seen in all plots that in each trial and going in either direction, the ISI is skewed towards a duration of less than 0.25 seconds. With that said, it appears that the neuron appears to have a higher burstiness when going left because in the right-direction trials, there are a greater number of ISIs that are 0.75s or longer relative to the left-direction trials. "
      ],
      "metadata": {
        "id": "yj-ZULEOksDI"
      }
    },
    {
      "cell_type": "code",
      "source": [],
      "metadata": {
        "id": "5BxwdR0LlGcF"
      },
      "execution_count": null,
      "outputs": []
    }
  ]
}